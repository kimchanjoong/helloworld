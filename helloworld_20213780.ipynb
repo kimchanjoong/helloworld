{
  "nbformat": 4,
  "nbformat_minor": 0,
  "metadata": {
    "colab": {
      "name": "helloworld_20213780.ipynb",
      "provenance": [],
      "authorship_tag": "ABX9TyMG6U5Et8zmbLun+cpRxUO/",
      "include_colab_link": true
    },
    "kernelspec": {
      "name": "python3",
      "display_name": "Python 3"
    },
    "language_info": {
      "name": "python"
    }
  },
  "cells": [
    {
      "cell_type": "markdown",
      "metadata": {
        "id": "view-in-github",
        "colab_type": "text"
      },
      "source": [
        "<a href=\"https://colab.research.google.com/github/kimchanjoong/helloworld/blob/main/helloworld_20213780.ipynb\" target=\"_parent\"><img src=\"https://colab.research.google.com/assets/colab-badge.svg\" alt=\"Open In Colab\"/></a>"
      ]
    },
    {
      "cell_type": "code",
      "metadata": {
        "colab": {
          "base_uri": "https://localhost:8080/"
        },
        "id": "5Zl4Nw8Iuey4",
        "outputId": "c38e9c68-532f-464c-bec4-7e97328c17c3"
      },
      "source": [
        "print(\"Hello world!!\")\n",
        "id = 20213780\n",
        "print(id)"
      ],
      "execution_count": 1,
      "outputs": [
        {
          "output_type": "stream",
          "text": [
            "Hello world!!\n",
            "20213780\n"
          ],
          "name": "stdout"
        }
      ]
    }
  ]
}